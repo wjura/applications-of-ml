{
 "cells": [
  {
   "cell_type": "markdown",
   "id": "4b2f26f2",
   "metadata": {},
   "source": [
    "## IRIS DataSet"
   ]
  },
  {
   "cell_type": "markdown",
   "id": "f219074c",
   "metadata": {},
   "source": [
    "Step #1: Load the Iris Dataset"
   ]
  },
  {
   "cell_type": "code",
   "execution_count": 1,
   "id": "d6c32307",
   "metadata": {},
   "outputs": [],
   "source": [
    "import numpy as np\n",
    "import pandas as pd\n",
    "import xgboost as xgb\n",
    "from sklearn.datasets import load_iris\n",
    "from sklearn.model_selection import train_test_split\n",
    "from sklearn.metrics import accuracy_score\n",
    "# Load the Iris dataset\n",
    "iris = load_iris()"
   ]
  },
  {
   "cell_type": "markdown",
   "id": "bfc2c3c7",
   "metadata": {},
   "source": [
    "Load your dataset and split the data into training and testing data"
   ]
  },
  {
   "cell_type": "code",
   "execution_count": 2,
   "id": "aa92d49b",
   "metadata": {},
   "outputs": [],
   "source": [
    "# Create a pandas DataFrame from the dataset\n",
    "iris_df = pd.DataFrame(data=iris.data, columns=iris.feature_names)\n",
    "\n",
    "# Add the target variable to the DataFrame\n",
    "iris_df['target'] = iris.target\n",
    "\n",
    "# Split the data into input features (X) and target variable (y)\n",
    "X = iris_df.drop('target', axis=1)\n",
    "y = iris_df['target']\n",
    "\n",
    "# Split the data into training and testing sets\n",
    "X_train, X_test, y_train, y_test = train_test_split(X, y, test_size=0.3, random_state=42)"
   ]
  },
  {
   "cell_type": "markdown",
   "id": "103963f2",
   "metadata": {},
   "source": [
    "Apply your hyperparameters and train your model"
   ]
  },
  {
   "cell_type": "code",
   "execution_count": 3,
   "id": "32c06edb",
   "metadata": {},
   "outputs": [
    {
     "name": "stdout",
     "output_type": "stream",
     "text": [
      "[11:35:07] WARNING: C:/Users/Administrator/workspace/xgboost-win64_release_1.5.1/src/learner.cc:1115: Starting in XGBoost 1.3.0, the default evaluation metric used with the objective 'multi:softmax' was changed from 'merror' to 'mlogloss'. Explicitly set eval_metric if you'd like to restore the old behavior.\n"
     ]
    }
   ],
   "source": [
    "# Convert the training and testing data to DMatrix format\n",
    "dtrain = xgb.DMatrix(X_train, label=y_train)\n",
    "dtest = xgb.DMatrix(X_test, label=y_test)\n",
    "\n",
    "# Set the XGBoost parameters\n",
    "params = {\n",
    "    'objective': 'multi:softmax',\n",
    "    'num_class': 3,\n",
    "    'max_depth': 3,\n",
    "    'eta': 0.1\n",
    "}\n",
    "\n",
    "# Train the XGBoost model\n",
    "num_rounds = 100\n",
    "xgb_model = xgb.train(params, dtrain, num_rounds)"
   ]
  },
  {
   "cell_type": "markdown",
   "id": "219a005d",
   "metadata": {},
   "source": [
    "Apply your hyperparameters and train your model"
   ]
  },
  {
   "cell_type": "code",
   "execution_count": 4,
   "id": "ae2320b5",
   "metadata": {},
   "outputs": [
    {
     "name": "stdout",
     "output_type": "stream",
     "text": [
      "Accuracy: 1.0\n"
     ]
    }
   ],
   "source": [
    "# Make predictions on the testing data\n",
    "y_pred = xgb_model.predict(dtest)\n",
    "\n",
    "# Calculate the accuracy of the model\n",
    "accuracy = accuracy_score(y_test, y_pred)\n",
    "print(f'Accuracy: {accuracy}')\n"
   ]
  },
  {
   "cell_type": "markdown",
   "id": "f849d376",
   "metadata": {},
   "source": [
    "In addition to accuracy, there are several other evaluation metrics that can be used to assess the performance of a multi-class classification model. Here are some common ones:\n",
    "\n",
    "- Confusion matrix: A confusion matrix provides a detailed breakdown of the number of true positives, false positives, true negatives, and false negatives for each class. It is a useful tool for understanding which classes the model is correctly and incorrectly classifying.\n",
    "\n",
    "- Precision, Recall, and F1-score: These are commonly used metrics that provide a more nuanced evaluation of a model's performance than accuracy. Precision measures the fraction of true positives among all positive predictions, recall measures the fraction of true positives among all actual positives, and F1-score is the harmonic mean of precision and recall.\n",
    "\n",
    "- ROC curve and AUC score: The ROC (Receiver Operating Characteristic) curve plots the true positive rate against the false positive rate for different threshold values. The AUC (Area Under the Curve) score is a measure of the overall performance of the model at all possible threshold values.\n",
    "\n",
    "- Log loss: Log loss measures the performance of a classifier by penalizing false classifications. It is a commonly used metric for probabilistic classifiers like XGBoost.\n",
    "\n",
    "- Cohen's Kappa: Cohen's Kappa is a statistic that measures inter-annotator agreement. In the context of machine learning, it can be used to assess the degree of agreement between the model's predictions and the true labels.\n",
    "\n",
    "- Overall, it is important to consider multiple evaluation metrics when assessing the performance of a multi-class classification model, as no single metric provides a complete picture of the model's performance."
   ]
  },
  {
   "cell_type": "code",
   "execution_count": 7,
   "id": "a01a086e",
   "metadata": {},
   "outputs": [],
   "source": [
    "from sklearn.metrics import accuracy_score, confusion_matrix, classification_report, roc_curve, auc, cohen_kappa_score, log_loss\n",
    "import matplotlib.pyplot as plt"
   ]
  },
  {
   "cell_type": "code",
   "execution_count": 8,
   "id": "e9b30972",
   "metadata": {},
   "outputs": [
    {
     "name": "stdout",
     "output_type": "stream",
     "text": [
      "Confusion Matrix:\n",
      "[[19  0  0]\n",
      " [ 0 13  0]\n",
      " [ 0  0 13]]\n",
      "Classification Report:\n",
      "              precision    recall  f1-score   support\n",
      "\n",
      "           0       1.00      1.00      1.00        19\n",
      "           1       1.00      1.00      1.00        13\n",
      "           2       1.00      1.00      1.00        13\n",
      "\n",
      "    accuracy                           1.00        45\n",
      "   macro avg       1.00      1.00      1.00        45\n",
      "weighted avg       1.00      1.00      1.00        45\n",
      "\n",
      "Cohen's Kappa Score: 1.00\n",
      "Log Loss: 0.01\n"
     ]
    }
   ],
   "source": [
    "# Calculate the confusion matrix\n",
    "cm = confusion_matrix(y_test, y_pred)\n",
    "print(f'Confusion Matrix:\\n{cm}')\n",
    "\n",
    "# Generate a classification report\n",
    "cr = classification_report(y_test, y_pred)\n",
    "print(f'Classification Report:\\n{cr}')\n",
    "\n",
    "# Calculate Cohen's Kappa score\n",
    "kappa = cohen_kappa_score(y_test, y_pred)\n",
    "print(f'Cohen\\'s Kappa Score: {kappa:.2f}')\n",
    "\n",
    "# Calculate the log loss\n",
    "y_pred_prob = xgb_model.predict(dtest, output_margin=True)\n",
    "logloss = log_loss(y_test, y_pred_prob)\n",
    "print(f'Log Loss: {logloss:.2f}')"
   ]
  },
  {
   "cell_type": "code",
   "execution_count": 10,
   "id": "d9b7feeb",
   "metadata": {},
   "outputs": [
    {
     "data": {
      "image/png": "[encoded data removed]",
      "text/plain": [
       "<Figure size 432x288 with 1 Axes>"
      ]
     },
     "metadata": {
      "needs_background": "light"
     },
     "output_type": "display_data"
    }
   ],
   "source": [
    "y_prob = xgb_model.predict(dtest, output_margin=True)\n",
    "n_classes = len(np.unique(y_train))\n",
    "fpr = dict()\n",
    "tpr = dict()\n",
    "roc_auc = dict()\n",
    "for i in range(n_classes):\n",
    "    fpr[i], tpr[i], _ = roc_curve((y_test == i).astype(int), y_prob[:, i])\n",
    "    roc_auc[i] = auc(fpr[i], tpr[i])\n",
    "\n",
    "# Plot the ROC curves\n",
    "plt.figure()\n",
    "colors = ['darkorange', 'green', 'blue']\n",
    "for i, color in zip(range(n_classes), colors):\n",
    "    plt.plot(fpr[i], tpr[i], color=color, lw=2,\n",
    "             label='ROC curve of class {0} (area = {1:0.2f})'\n",
    "             ''.format(i, roc_auc[i]))\n",
    "\n",
    "# Plot the diagonal line (baseline)\n",
    "plt.plot([0, 1], [0, 1], 'k--', lw=2)\n",
    "plt.xlim([0.0, 1.0])\n",
    "plt.ylim([0.0, 1.05])\n",
    "plt.xlabel('False Positive Rate')\n",
    "plt.ylabel('True Positive Rate')\n",
    "plt.title('Receiver Operating Characteristic (ROC) Curve')\n",
    "plt.legend(loc=\"lower right\")\n",
    "plt.show()"
   ]
  },
  {
   "cell_type": "markdown",
   "id": "96bede85",
   "metadata": {},
   "source": [
    "## MNIST Dataset"
   ]
  },
  {
   "cell_type": "code",
   "execution_count": null,
   "id": "cbbebca2",
   "metadata": {},
   "outputs": [],
   "source": [
    "import numpy as np\n",
    "import pandas as pd\n",
    "import xgboost as xgb\n",
    "from sklearn.datasets import fetch_openml\n",
    "from sklearn.model_selection import train_test_split\n",
    "from sklearn.metrics import accuracy_score\n"
   ]
  },
  {
   "cell_type": "markdown",
   "id": "59447f14",
   "metadata": {},
   "source": [
    "Load your dataset and split the data into training and testing data"
   ]
  },
  {
   "cell_type": "code",
   "execution_count": null,
   "id": "8c7efc41",
   "metadata": {},
   "outputs": [],
   "source": [
    "# Load the MNIST dataset\n",
    "mnist = fetch_openml('mnist_784')\n",
    "\n",
    "# Split the data into input features (X) and target variable (y)\n",
    "X = mnist.data.astype('float32')\n",
    "y = mnist.target.astype('int')\n",
    "\n",
    "# Split the data into training and testing sets\n",
    "X_train, X_test, y_train, y_test = train_test_split(X, y, test_size=0.3, random_state=42)\n"
   ]
  },
  {
   "cell_type": "markdown",
   "id": "e09f2057",
   "metadata": {},
   "source": [
    "Apply your hyperparameters and train your model"
   ]
  },
  {
   "cell_type": "code",
   "execution_count": null,
   "id": "0007df86",
   "metadata": {},
   "outputs": [],
   "source": [
    "# Convert the training and testing data to DMatrix format\n",
    "dtrain = xgb.DMatrix(X_train, label=y_train)\n",
    "dtest = xgb.DMatrix(X_test, label=y_test)\n",
    "\n",
    "# Set the XGBoost parameters\n",
    "params = {\n",
    "    'objective': 'multi:softmax',\n",
    "    'num_class': 10,\n",
    "    'max_depth': 6,\n",
    "    'eta': 0.3,\n",
    "    'subsample': 0.8,\n",
    "    'colsample_bytree': 0.8\n",
    "}\n",
    "\n",
    "# Train the XGBoost model\n",
    "num_rounds = 100\n",
    "xgb_model = xgb.train(params, dtrain, num_rounds)\n"
   ]
  },
  {
   "cell_type": "markdown",
   "id": "4140bbe4",
   "metadata": {},
   "source": [
    "Run your prediction on your test set and evaluate"
   ]
  },
  {
   "cell_type": "code",
   "execution_count": null,
   "id": "55ec879f",
   "metadata": {},
   "outputs": [],
   "source": [
    "# Make predictions on the testing data\n",
    "y_pred = xgb_model.predict(dtest)\n",
    "\n",
    "# Calculate the accuracy of the model\n",
    "accuracy = accuracy_score(y_test, y_pred)\n",
    "print(f'Accuracy: {accuracy}')"
   ]
  },
  {
   "cell_type": "markdown",
   "id": "437a7aa4",
   "metadata": {},
   "source": [
    "Can you apply the same evaluation metrics we did in the IRIS dataset to the MNIST dataset?"
   ]
  },
  {
   "cell_type": "code",
   "execution_count": null,
   "id": "464be06b",
   "metadata": {},
   "outputs": [],
   "source": [
    "# code goes here"
   ]
  }
 ],
 "metadata": {
  "kernelspec": {
   "display_name": "Python 3 (ipykernel)",
   "language": "python",
   "name": "python3"
  },
  "language_info": {
   "codemirror_mode": {
    "name": "ipython",
    "version": 3
   },
   "file_extension": ".py",
   "mimetype": "text/x-python",
   "name": "python",
   "nbconvert_exporter": "python",
   "pygments_lexer": "ipython3",
   "version": "3.9.7"
  }
 },
 "nbformat": 4,
 "nbformat_minor": 5
}
