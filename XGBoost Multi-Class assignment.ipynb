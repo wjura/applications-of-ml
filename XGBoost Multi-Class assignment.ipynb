{
 "cells": [
  {
   "cell_type": "markdown",
   "id": "0b242db1",
   "metadata": {},
   "source": [
    "What is multi-class classification?"
   ]
  },
  {
   "cell_type": "markdown",
   "id": "cc3f17db",
   "metadata": {},
   "source": [
    "What is the difference between one-vs-rest and one-vs-one strategies in multi-class classification?"
   ]
  },
  {
   "cell_type": "markdown",
   "id": "bee2574a",
   "metadata": {},
   "source": [
    "What evaluation metrics can be used to evaluate the performance of a multi-class classification model?"
   ]
  },
  {
   "cell_type": "markdown",
   "id": "393f49d1",
   "metadata": {},
   "source": [
    "How do you generate an ROC curve for a multi-class classification problem? Please provide the code"
   ]
  },
  {
   "cell_type": "markdown",
   "id": "4948f6f0",
   "metadata": {},
   "source": [
    "What impacts the performance of XGBoost for multi-class classification?"
   ]
  },
  {
   "cell_type": "markdown",
   "id": "41bc2439",
   "metadata": {},
   "source": [
    "How do you tune hyperparameters for XGBoost models in a multi-class classification task?"
   ]
  },
  {
   "cell_type": "markdown",
   "id": "6ff6f6c1",
   "metadata": {},
   "source": [
    "What is the purpose of the num_boost_round parameter in XGBoost's train() function for hyperparameter tuning?"
   ]
  },
  {
   "cell_type": "markdown",
   "id": "8fd52b18",
   "metadata": {},
   "source": [
    "What is the purpose of the early_stopping_rounds parameter in XGBoost's train() function for hyperparameter tuning"
   ]
  },
  {
   "cell_type": "markdown",
   "id": "08e670d4",
   "metadata": {},
   "source": [
    "How does XGBoost handle class imbalance in multi-class classification tasks?"
   ]
  },
  {
   "cell_type": "markdown",
   "id": "a38ab502",
   "metadata": {},
   "source": [
    "What is the purpose of the num_class parameter in XGBoost's train() function for multi-class classification tasks?"
   ]
  },
  {
   "cell_type": "markdown",
   "id": "d0c5156a",
   "metadata": {},
   "source": [
    "What is the purpose of the objective parameter in XGBoost's train() function for multi-class classification tasks?\n"
   ]
  },
  {
   "cell_type": "markdown",
   "id": "fd463e4b",
   "metadata": {},
   "source": [
    "What are some commonly used objective functions for multi-class classification with XGBoost?"
   ]
  },
  {
   "cell_type": "markdown",
   "id": "3a5fadf8",
   "metadata": {},
   "source": [
    "What is the softmax function and how is it used in multi-class classification with XGBoost?"
   ]
  },
  {
   "cell_type": "markdown",
   "id": "f6e65c08",
   "metadata": {},
   "source": [
    "What is the purpose of the softmax parameter in XGBoost's predict() function for multi-class classification tasks?"
   ]
  },
  {
   "cell_type": "markdown",
   "id": "3469dd9e",
   "metadata": {},
   "source": [
    "How does the softmax function help to handle class imbalance in multi-class classification tasks?"
   ]
  },
  {
   "cell_type": "markdown",
   "id": "c6307537",
   "metadata": {},
   "source": [
    "How can you interpret the output of the softmax function in a multi-class classification problem?"
   ]
  },
  {
   "cell_type": "markdown",
   "id": "2b0b068d",
   "metadata": {},
   "source": [
    "What are some potential issues with using the softmax function in multi-class classification with XGBoost?"
   ]
  }
 ],
 "metadata": {
  "kernelspec": {
   "display_name": "Python 3 (ipykernel)",
   "language": "python",
   "name": "python3"
  },
  "language_info": {
   "codemirror_mode": {
    "name": "ipython",
    "version": 3
   },
   "file_extension": ".py",
   "mimetype": "text/x-python",
   "name": "python",
   "nbconvert_exporter": "python",
   "pygments_lexer": "ipython3",
   "version": "3.9.7"
  }
 },
 "nbformat": 4,
 "nbformat_minor": 5
}
